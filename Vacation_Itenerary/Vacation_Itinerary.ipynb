{
 "cells": [
  {
   "cell_type": "markdown",
   "metadata": {},
   "source": [
    "## Deliverable 3. Create a Travel Itinerary Map."
   ]
  },
  {
   "cell_type": "code",
   "execution_count": 1,
   "metadata": {},
   "outputs": [],
   "source": [
    "# Dependencies and Setup\n",
    "import pandas as pd\n",
    "import requests\n",
    "import gmaps\n",
    "import sys\n",
    "import os\n",
    "sys.path.append('../')\n",
    "\n",
    "\n",
    "# Import API key\n",
    "from config import google_api_key\n",
    "\n",
    "# Configure gmaps API key\n",
    "gmaps.configure(api_key=google_api_key)"
   ]
  },
  {
   "cell_type": "code",
   "execution_count": 2,
   "metadata": {},
   "outputs": [
    {
     "data": {
      "text/html": [
       "<div>\n",
       "<style scoped>\n",
       "    .dataframe tbody tr th:only-of-type {\n",
       "        vertical-align: middle;\n",
       "    }\n",
       "\n",
       "    .dataframe tbody tr th {\n",
       "        vertical-align: top;\n",
       "    }\n",
       "\n",
       "    .dataframe thead th {\n",
       "        text-align: right;\n",
       "    }\n",
       "</style>\n",
       "<table border=\"1\" class=\"dataframe\">\n",
       "  <thead>\n",
       "    <tr style=\"text-align: right;\">\n",
       "      <th></th>\n",
       "      <th>City_ID</th>\n",
       "      <th>City</th>\n",
       "      <th>Country</th>\n",
       "      <th>Max Temp</th>\n",
       "      <th>Current Description</th>\n",
       "      <th>Lat</th>\n",
       "      <th>Lng</th>\n",
       "      <th>Hotel Name</th>\n",
       "    </tr>\n",
       "  </thead>\n",
       "  <tbody>\n",
       "    <tr>\n",
       "      <th>0</th>\n",
       "      <td>0</td>\n",
       "      <td>Peniche</td>\n",
       "      <td>PT</td>\n",
       "      <td>55.99</td>\n",
       "      <td>clear sky</td>\n",
       "      <td>39.3558</td>\n",
       "      <td>-9.3811</td>\n",
       "      <td>Hotel Star inn Peniche</td>\n",
       "    </tr>\n",
       "    <tr>\n",
       "      <th>1</th>\n",
       "      <td>3</td>\n",
       "      <td>Waiouru</td>\n",
       "      <td>NZ</td>\n",
       "      <td>49.01</td>\n",
       "      <td>scattered clouds</td>\n",
       "      <td>-39.4833</td>\n",
       "      <td>175.6667</td>\n",
       "      <td>Tāwhiri</td>\n",
       "    </tr>\n",
       "    <tr>\n",
       "      <th>2</th>\n",
       "      <td>5</td>\n",
       "      <td>Petropavlovsk-Kamchatskiy</td>\n",
       "      <td>RU</td>\n",
       "      <td>30.20</td>\n",
       "      <td>clear sky</td>\n",
       "      <td>53.0452</td>\n",
       "      <td>158.6483</td>\n",
       "      <td>ООО \"Гостиничный комплекс \"Петропавловск\"</td>\n",
       "    </tr>\n",
       "    <tr>\n",
       "      <th>3</th>\n",
       "      <td>7</td>\n",
       "      <td>Qaqortoq</td>\n",
       "      <td>GL</td>\n",
       "      <td>37.40</td>\n",
       "      <td>overcast clouds</td>\n",
       "      <td>60.7167</td>\n",
       "      <td>-46.0333</td>\n",
       "      <td>Hotel Qaqortoq</td>\n",
       "    </tr>\n",
       "    <tr>\n",
       "      <th>4</th>\n",
       "      <td>8</td>\n",
       "      <td>Ushuaia</td>\n",
       "      <td>AR</td>\n",
       "      <td>37.40</td>\n",
       "      <td>scattered clouds</td>\n",
       "      <td>-54.8000</td>\n",
       "      <td>-68.3000</td>\n",
       "      <td>Albatros Hotel</td>\n",
       "    </tr>\n",
       "  </tbody>\n",
       "</table>\n",
       "</div>"
      ],
      "text/plain": [
       "   City_ID                       City Country  Max Temp Current Description  \\\n",
       "0        0                    Peniche      PT     55.99           clear sky   \n",
       "1        3                    Waiouru      NZ     49.01    scattered clouds   \n",
       "2        5  Petropavlovsk-Kamchatskiy      RU     30.20           clear sky   \n",
       "3        7                   Qaqortoq      GL     37.40     overcast clouds   \n",
       "4        8                    Ushuaia      AR     37.40    scattered clouds   \n",
       "\n",
       "       Lat       Lng                                 Hotel Name  \n",
       "0  39.3558   -9.3811                     Hotel Star inn Peniche  \n",
       "1 -39.4833  175.6667                                    Tāwhiri  \n",
       "2  53.0452  158.6483  ООО \"Гостиничный комплекс \"Петропавловск\"  \n",
       "3  60.7167  -46.0333                             Hotel Qaqortoq  \n",
       "4 -54.8000  -68.3000                             Albatros Hotel  "
      ]
     },
     "execution_count": 2,
     "metadata": {},
     "output_type": "execute_result"
    }
   ],
   "source": [
    "# 1. Read the WeatherPy_vacation.csv into a DataFrame.\n",
    "vacation_df = pd.read_csv(\"../Vacation_Search/WeatherPy_vacation.csv\")\n",
    "vacation_df.head()"
   ]
  },
  {
   "cell_type": "code",
   "execution_count": 3,
   "metadata": {},
   "outputs": [],
   "source": [
    "# 2. Using the template add the city name, the country code, the weather description and maximum temperature for the city.\n",
    "info_box_template = \"\"\"\n",
    "<dl>\n",
    "<dt>Hotel Name</dt><dd>{Hotel Name}</dd>\n",
    "<dt>City</dt><dd>{City}</dd>\n",
    "<dt>Country</dt><dd>{Country}</dd>\n",
    "<dt>Current Weather</dt><dd>{Current Description} and {Max Temp} °F</dd>\n",
    "</dl>\n",
    "\"\"\"\n",
    "\n",
    "# 3a. Get the data from each row and add it to the formatting template and store the data in a list.\n",
    "hotel_info = [info_box_template.format(**row) for index, row in vacation_df.iterrows()]\n",
    "\n",
    "# 3b. Get the latitude and longitude from each row and store in a new DataFrame.\n",
    "locations = vacation_df[[\"Lat\", \"Lng\"]]"
   ]
  },
  {
   "cell_type": "code",
   "execution_count": 4,
   "metadata": {},
   "outputs": [
    {
     "data": {
      "application/vnd.jupyter.widget-view+json": {
       "model_id": "6d085b10bcc84fb990e0dd00952dea0c",
       "version_major": 2,
       "version_minor": 0
      },
      "text/plain": [
       "Figure(layout=FigureLayout(height='420px'))"
      ]
     },
     "metadata": {},
     "output_type": "display_data"
    }
   ],
   "source": [
    "# 4a. Add a marker layer for each city to the map.\n",
    "max_temp = vacation_df[\"Max Temp\"]\n",
    "fig = gmaps.figure(center=(30.0, 31.0), zoom_level=1.5)\n",
    "heat_layer = gmaps.heatmap_layer(locations, weights=max_temp,\n",
    "             dissipating=False, max_intensity=300, point_radius=4)\n",
    "marker_layer = gmaps.marker_layer(locations,info_box_content=hotel_info)\n",
    "fig.add_layer(marker_layer)\n",
    "# 4b. Display the figure\n",
    "fig\n"
   ]
  },
  {
   "cell_type": "code",
   "execution_count": 5,
   "metadata": {},
   "outputs": [],
   "source": [
    "# From the map above pick 4 cities and create a vacation itinerary route to travel between the four cities. \n",
    "# 5. Create DataFrames for each city by filtering the 'vacation_df' using the loc method. \n",
    "# Hint: The starting and ending city should be the same city.\n",
    "\n",
    "vacation_start = vacation_df.loc[(vacation_df[\"Hotel Name\"] == \"Travel Inn Motel\") & (vacation_df[\"City\"]==\"Canon City\") ].drop_duplicates(subset = [\"City\",\"Country\",\"Max Temp\",\"Current Description\",\"Lat\",\"Lng\",\"Hotel Name\"])\n",
    "vacation_end = vacation_df.loc[(vacation_df[\"Hotel Name\"] == \"Travel Inn Motel\") & (vacation_df[\"City\"]==\"Canon City\") ].drop_duplicates(subset = [\"City\",\"Country\",\"Max Temp\",\"Current Description\",\"Lat\",\"Lng\",\"Hotel Name\"])\n",
    "\n",
    "vacation_stop1 =vacation_df.loc[(vacation_df[\"Hotel Name\"] == \"Holiday Inn Express & Suites Salina\") & (vacation_df[\"City\"]==\"Salina\") ].drop_duplicates(subset = [\"City\",\"Country\",\"Max Temp\",\"Current Description\",\"Lat\",\"Lng\",\"Hotel Name\"])\n",
    "\n",
    "vacation_stop2 = vacation_df.loc[(vacation_df[\"Hotel Name\"] == \"Select Inn Breckenridge\") & (vacation_df[\"City\"]==\"Wahpeton\") ].drop_duplicates(subset = [\"City\",\"Country\",\"Max Temp\",\"Current Description\",\"Lat\",\"Lng\",\"Hotel Name\"])\n",
    "\n",
    "vacation_stop3 = vacation_df.loc[(vacation_df[\"Hotel Name\"] == \"Six Acres Bed & Breakfast\") & (vacation_df[\"City\"]==\"Hamilton\") ].drop_duplicates(subset = [\"City\",\"Country\",\"Max Temp\",\"Current Description\",\"Lat\",\"Lng\",\"Hotel Name\"])\n"
   ]
  },
  {
   "cell_type": "code",
   "execution_count": 6,
   "metadata": {},
   "outputs": [],
   "source": [
    "# 6. Get the latitude-longitude pairs as tuples from each city DataFrame using the to_numpy function and list indexing.\n",
    "start = vacation_start[\"Lat\"].to_numpy()[0], vacation_start[\"Lng\"].to_numpy()[0]\n",
    "end = vacation_end[\"Lat\"].to_numpy()[0], vacation_end[\"Lng\"].to_numpy()[0]\n",
    "stop1 = vacation_stop1[\"Lat\"].to_numpy()[0], vacation_stop1[\"Lng\"].to_numpy()[0]\n",
    "stop2 = vacation_stop2[\"Lat\"].to_numpy()[0], vacation_stop2[\"Lng\"].to_numpy()[0]\n",
    "stop3 = vacation_stop3[\"Lat\"].to_numpy()[0], vacation_stop3[\"Lng\"].to_numpy()[0]\n"
   ]
  },
  {
   "cell_type": "code",
   "execution_count": 7,
   "metadata": {
    "scrolled": true
   },
   "outputs": [
    {
     "data": {
      "application/vnd.jupyter.widget-view+json": {
       "model_id": "3fd6e55d51404ea3abe6fee0d1f8be4e",
       "version_major": 2,
       "version_minor": 0
      },
      "text/plain": [
       "Figure(layout=FigureLayout(height='420px'))"
      ]
     },
     "metadata": {},
     "output_type": "display_data"
    }
   ],
   "source": [
    "# 7. Create a direction layer map using the start and end latitude-longitude pairs,\n",
    "# and stop1, stop2, and stop3 as the waypoints. The travel_mode should be \"DRIVING\", \"BICYCLING\", or \"WALKING\".\n",
    "import gmaps.datasets\n",
    "\n",
    "fig = gmaps.figure(center=(30.0, 31.0), zoom_level=1.5)\n",
    "travel_itinerary = gmaps.directions_layer(\n",
    "        start, end, waypoints=[stop1, stop2,stop3],\n",
    "        travel_mode='DRIVING')\n",
    "\n",
    "fig.add_layer(travel_itinerary)\n",
    "fig\n"
   ]
  },
  {
   "cell_type": "code",
   "execution_count": 8,
   "metadata": {},
   "outputs": [
    {
     "data": {
      "text/html": [
       "<div>\n",
       "<style scoped>\n",
       "    .dataframe tbody tr th:only-of-type {\n",
       "        vertical-align: middle;\n",
       "    }\n",
       "\n",
       "    .dataframe tbody tr th {\n",
       "        vertical-align: top;\n",
       "    }\n",
       "\n",
       "    .dataframe thead th {\n",
       "        text-align: right;\n",
       "    }\n",
       "</style>\n",
       "<table border=\"1\" class=\"dataframe\">\n",
       "  <thead>\n",
       "    <tr style=\"text-align: right;\">\n",
       "      <th></th>\n",
       "      <th>City_ID</th>\n",
       "      <th>City</th>\n",
       "      <th>Country</th>\n",
       "      <th>Max Temp</th>\n",
       "      <th>Current Description</th>\n",
       "      <th>Lat</th>\n",
       "      <th>Lng</th>\n",
       "      <th>Hotel Name</th>\n",
       "    </tr>\n",
       "  </thead>\n",
       "  <tbody>\n",
       "    <tr>\n",
       "      <th>0</th>\n",
       "      <td>1952</td>\n",
       "      <td>Canon City</td>\n",
       "      <td>US</td>\n",
       "      <td>32.0</td>\n",
       "      <td>snow</td>\n",
       "      <td>38.4410</td>\n",
       "      <td>-105.2424</td>\n",
       "      <td>Travel Inn Motel</td>\n",
       "    </tr>\n",
       "    <tr>\n",
       "      <th>1</th>\n",
       "      <td>1489</td>\n",
       "      <td>Salina</td>\n",
       "      <td>US</td>\n",
       "      <td>55.4</td>\n",
       "      <td>overcast clouds</td>\n",
       "      <td>38.8403</td>\n",
       "      <td>-97.6114</td>\n",
       "      <td>Holiday Inn Express &amp; Suites Salina</td>\n",
       "    </tr>\n",
       "    <tr>\n",
       "      <th>2</th>\n",
       "      <td>582</td>\n",
       "      <td>Wahpeton</td>\n",
       "      <td>US</td>\n",
       "      <td>35.6</td>\n",
       "      <td>clear sky</td>\n",
       "      <td>46.2652</td>\n",
       "      <td>-96.6059</td>\n",
       "      <td>Select Inn Breckenridge</td>\n",
       "    </tr>\n",
       "    <tr>\n",
       "      <th>3</th>\n",
       "      <td>661</td>\n",
       "      <td>Hamilton</td>\n",
       "      <td>US</td>\n",
       "      <td>37.4</td>\n",
       "      <td>clear sky</td>\n",
       "      <td>39.1834</td>\n",
       "      <td>-84.5333</td>\n",
       "      <td>Six Acres Bed &amp; Breakfast</td>\n",
       "    </tr>\n",
       "  </tbody>\n",
       "</table>\n",
       "</div>"
      ],
      "text/plain": [
       "   City_ID        City Country  Max Temp Current Description      Lat  \\\n",
       "0     1952  Canon City      US      32.0                snow  38.4410   \n",
       "1     1489      Salina      US      55.4     overcast clouds  38.8403   \n",
       "2      582    Wahpeton      US      35.6           clear sky  46.2652   \n",
       "3      661    Hamilton      US      37.4           clear sky  39.1834   \n",
       "\n",
       "        Lng                           Hotel Name  \n",
       "0 -105.2424                     Travel Inn Motel  \n",
       "1  -97.6114  Holiday Inn Express & Suites Salina  \n",
       "2  -96.6059              Select Inn Breckenridge  \n",
       "3  -84.5333            Six Acres Bed & Breakfast  "
      ]
     },
     "execution_count": 8,
     "metadata": {},
     "output_type": "execute_result"
    }
   ],
   "source": [
    "# 8. To create a marker layer map between the four cities.\n",
    "#  Combine the four city DataFrames into one DataFrame using the concat() function.\n",
    "#frames = [start, stop1, stop2,stop3]\n",
    "itinerary_df = pd.concat([vacation_start, vacation_stop1, vacation_stop2,vacation_stop3],ignore_index=True)\n",
    "itinerary_df"
   ]
  },
  {
   "cell_type": "code",
   "execution_count": 9,
   "metadata": {},
   "outputs": [],
   "source": [
    "# 9 Using the template add city name, the country code, the weather description and maximum temperature for the city. \n",
    "info_box_template = \"\"\"\n",
    "<dl>\n",
    "<dt>Hotel Name</dt><dd>{Hotel Name}</dd>\n",
    "<dt>City</dt><dd>{City}</dd>\n",
    "<dt>Country</dt><dd>{Country}</dd>\n",
    "<dt>Current Weather</dt><dd>{Current Description} and {Max Temp} °F</dd>\n",
    "</dl>\n",
    "\"\"\"\n",
    "\n",
    "# 10a Get the data from each row and add it to the formatting template and store the data in a list.\n",
    "hotel_info = [info_box_template.format(**row) for index, row in itinerary_df.iterrows()]\n",
    "\n",
    "# 10b. Get the latitude and longitude from each row and store in a new DataFrame.\n",
    "locations = itinerary_df[[\"Lat\", \"Lng\"]]"
   ]
  },
  {
   "cell_type": "code",
   "execution_count": 10,
   "metadata": {},
   "outputs": [
    {
     "data": {
      "application/vnd.jupyter.widget-view+json": {
       "model_id": "e79ff950b8454721bf3943d5daa37554",
       "version_major": 2,
       "version_minor": 0
      },
      "text/plain": [
       "Figure(layout=FigureLayout(height='420px'))"
      ]
     },
     "metadata": {},
     "output_type": "display_data"
    }
   ],
   "source": [
    "# 11a. Add a marker layer for each city to the map.\n",
    "max_temp = itinerary_df[\"Max Temp\"]\n",
    "fig = gmaps.figure(center=(30.0, 31.0), zoom_level=1.5)\n",
    "heat_layer = gmaps.heatmap_layer(locations, weights=max_temp,\n",
    "             dissipating=False, max_intensity=300, point_radius=4)\n",
    "marker_layer = gmaps.marker_layer(locations,info_box_content=hotel_info)\n",
    "fig.add_layer(marker_layer)\n",
    "# 11b. Display the figure\n",
    "fig"
   ]
  },
  {
   "cell_type": "code",
   "execution_count": null,
   "metadata": {},
   "outputs": [],
   "source": []
  }
 ],
 "metadata": {
  "kernelspec": {
   "display_name": "PythonData",
   "language": "python",
   "name": "pythondata"
  },
  "language_info": {
   "codemirror_mode": {
    "name": "ipython",
    "version": 3
   },
   "file_extension": ".py",
   "mimetype": "text/x-python",
   "name": "python",
   "nbconvert_exporter": "python",
   "pygments_lexer": "ipython3",
   "version": "3.7.9"
  },
  "latex_envs": {
   "LaTeX_envs_menu_present": true,
   "autoclose": false,
   "autocomplete": true,
   "bibliofile": "biblio.bib",
   "cite_by": "apalike",
   "current_citInitial": 1,
   "eqLabelWithNumbers": true,
   "eqNumInitial": 1,
   "hotkeys": {
    "equation": "Ctrl-E",
    "itemize": "Ctrl-I"
   },
   "labels_anchors": false,
   "latex_user_defs": false,
   "report_style_numbering": false,
   "user_envs_cfg": false
  }
 },
 "nbformat": 4,
 "nbformat_minor": 2
}
