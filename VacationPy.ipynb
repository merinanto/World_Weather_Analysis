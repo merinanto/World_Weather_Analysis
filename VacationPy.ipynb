{
 "cells": [
  {
   "cell_type": "code",
   "execution_count": 1,
   "metadata": {},
   "outputs": [
    {
     "name": "stdout",
     "output_type": "stream",
     "text": [
      "C:\\Users\\merin\\Documents\\GitHub\\World_Weather_Analysis\n"
     ]
    }
   ],
   "source": [
    "# Import the dependencies.\n",
    "import pandas as pd\n",
    "import gmaps\n",
    "import requests\n",
    "# Import the API key.\n",
    "from config import google_api_key\n",
    "%matplotlib inline\n",
    "\n",
    "import os\n",
    "\n",
    "cwd = os.getcwd()\n",
    "print(cwd)"
   ]
  },
  {
   "cell_type": "code",
   "execution_count": 2,
   "metadata": {},
   "outputs": [
    {
     "name": "stdout",
     "output_type": "stream",
     "text": [
      "weather_data\\cities.csv\n"
     ]
    }
   ],
   "source": [
    "\n",
    "city_data_to_load = os.path.join(\"weather_data\",\"cities.csv\")\n",
    "print(city_data_to_load)\n"
   ]
  },
  {
   "cell_type": "code",
   "execution_count": 3,
   "metadata": {},
   "outputs": [
    {
     "data": {
      "text/html": [
       "<div>\n",
       "<style scoped>\n",
       "    .dataframe tbody tr th:only-of-type {\n",
       "        vertical-align: middle;\n",
       "    }\n",
       "\n",
       "    .dataframe tbody tr th {\n",
       "        vertical-align: top;\n",
       "    }\n",
       "\n",
       "    .dataframe thead th {\n",
       "        text-align: right;\n",
       "    }\n",
       "</style>\n",
       "<table border=\"1\" class=\"dataframe\">\n",
       "  <thead>\n",
       "    <tr style=\"text-align: right;\">\n",
       "      <th></th>\n",
       "      <th>City_ID</th>\n",
       "      <th>City</th>\n",
       "      <th>Country</th>\n",
       "      <th>Date</th>\n",
       "      <th>Lat</th>\n",
       "      <th>Lng</th>\n",
       "      <th>Max Temp</th>\n",
       "      <th>Humidity</th>\n",
       "      <th>Cloudiness</th>\n",
       "      <th>Wind Speed</th>\n",
       "    </tr>\n",
       "  </thead>\n",
       "  <tbody>\n",
       "    <tr>\n",
       "      <th>0</th>\n",
       "      <td>0</td>\n",
       "      <td>Maceio</td>\n",
       "      <td>BR</td>\n",
       "      <td>2021-03-13 07:43:48</td>\n",
       "      <td>-9.6658</td>\n",
       "      <td>-35.7353</td>\n",
       "      <td>73.4</td>\n",
       "      <td>94</td>\n",
       "      <td>20</td>\n",
       "      <td>3.44</td>\n",
       "    </tr>\n",
       "    <tr>\n",
       "      <th>1</th>\n",
       "      <td>1</td>\n",
       "      <td>Jahanabad</td>\n",
       "      <td>IN</td>\n",
       "      <td>2021-03-13 07:43:49</td>\n",
       "      <td>25.2167</td>\n",
       "      <td>84.9833</td>\n",
       "      <td>75.2</td>\n",
       "      <td>56</td>\n",
       "      <td>75</td>\n",
       "      <td>6.91</td>\n",
       "    </tr>\n",
       "    <tr>\n",
       "      <th>2</th>\n",
       "      <td>2</td>\n",
       "      <td>Faro</td>\n",
       "      <td>PT</td>\n",
       "      <td>2021-03-13 07:43:49</td>\n",
       "      <td>37.0194</td>\n",
       "      <td>-7.9322</td>\n",
       "      <td>50.0</td>\n",
       "      <td>71</td>\n",
       "      <td>0</td>\n",
       "      <td>8.05</td>\n",
       "    </tr>\n",
       "    <tr>\n",
       "      <th>3</th>\n",
       "      <td>3</td>\n",
       "      <td>Bobcaygeon</td>\n",
       "      <td>CA</td>\n",
       "      <td>2021-03-13 07:43:50</td>\n",
       "      <td>44.5462</td>\n",
       "      <td>-78.5420</td>\n",
       "      <td>21.2</td>\n",
       "      <td>45</td>\n",
       "      <td>1</td>\n",
       "      <td>13.80</td>\n",
       "    </tr>\n",
       "    <tr>\n",
       "      <th>4</th>\n",
       "      <td>4</td>\n",
       "      <td>Punta Arenas</td>\n",
       "      <td>CL</td>\n",
       "      <td>2021-03-13 07:42:19</td>\n",
       "      <td>-53.1500</td>\n",
       "      <td>-70.9167</td>\n",
       "      <td>44.6</td>\n",
       "      <td>49</td>\n",
       "      <td>20</td>\n",
       "      <td>24.16</td>\n",
       "    </tr>\n",
       "  </tbody>\n",
       "</table>\n",
       "</div>"
      ],
      "text/plain": [
       "   City_ID          City Country                 Date      Lat      Lng  \\\n",
       "0        0        Maceio      BR  2021-03-13 07:43:48  -9.6658 -35.7353   \n",
       "1        1     Jahanabad      IN  2021-03-13 07:43:49  25.2167  84.9833   \n",
       "2        2          Faro      PT  2021-03-13 07:43:49  37.0194  -7.9322   \n",
       "3        3    Bobcaygeon      CA  2021-03-13 07:43:50  44.5462 -78.5420   \n",
       "4        4  Punta Arenas      CL  2021-03-13 07:42:19 -53.1500 -70.9167   \n",
       "\n",
       "   Max Temp  Humidity  Cloudiness  Wind Speed  \n",
       "0      73.4        94          20        3.44  \n",
       "1      75.2        56          75        6.91  \n",
       "2      50.0        71           0        8.05  \n",
       "3      21.2        45           1       13.80  \n",
       "4      44.6        49          20       24.16  "
      ]
     },
     "execution_count": 3,
     "metadata": {},
     "output_type": "execute_result"
    }
   ],
   "source": [
    "# Store the CSV you saved created in part one into a DataFrame.\n",
    "city_data_df = pd.read_csv(city_data_to_load)\n",
    "city_data_df.head()"
   ]
  },
  {
   "cell_type": "code",
   "execution_count": 4,
   "metadata": {},
   "outputs": [
    {
     "data": {
      "text/plain": [
       "City_ID         int64\n",
       "City           object\n",
       "Country        object\n",
       "Date           object\n",
       "Lat           float64\n",
       "Lng           float64\n",
       "Max Temp      float64\n",
       "Humidity        int64\n",
       "Cloudiness      int64\n",
       "Wind Speed    float64\n",
       "dtype: object"
      ]
     },
     "execution_count": 4,
     "metadata": {},
     "output_type": "execute_result"
    }
   ],
   "source": [
    "city_data_df.dtypes"
   ]
  },
  {
   "cell_type": "code",
   "execution_count": 5,
   "metadata": {},
   "outputs": [],
   "source": [
    "# Configure gmaps to use your Google API key.\n",
    "gmaps.configure(api_key=google_api_key)"
   ]
  },
  {
   "cell_type": "code",
   "execution_count": 6,
   "metadata": {},
   "outputs": [
    {
     "data": {
      "application/vnd.jupyter.widget-view+json": {
       "model_id": "40de7075f4dc4bd9a07faf5a3bec6dfe",
       "version_major": 2,
       "version_minor": 0
      },
      "text/plain": [
       "Figure(layout=FigureLayout(height='420px'))"
      ]
     },
     "metadata": {},
     "output_type": "display_data"
    }
   ],
   "source": [
    "# Heatmap of temperature\n",
    "# Get the latitude and longitude.\n",
    "locations = city_data_df[[\"Lat\", \"Lng\"]]\n",
    "# Get the maximum temperature.\n",
    "max_temp = city_data_df[\"Max Temp\"]\n",
    "#temps = []\n",
    "#for temp in max_temp:\n",
    "#    temps.append(max(temp, 0))\n",
    "# Assign the figure variable.\n",
    "fig = gmaps.figure(center=(30.0, 31.0), zoom_level=1.5)\n",
    "# Assign the heatmap variable.\n",
    "#print((locations))\n",
    "#heat_layer = gmaps.heatmap_layer(locations, weights=temps)\n",
    "heat_layer = gmaps.heatmap_layer(locations, weights=[max(temp, 0) for temp in max_temp],dissipating=False, max_intensity=300, point_radius=4)\n",
    "# Add the heatmap layer.\n",
    "fig.add_layer(heat_layer)\n",
    "#fig = gmaps.figure(center=(30.0, 31.0), zoom_level=1.5)\n",
    "# Call the figure to plot the data.\n",
    "fig"
   ]
  },
  {
   "cell_type": "code",
   "execution_count": 7,
   "metadata": {},
   "outputs": [
    {
     "data": {
      "application/vnd.jupyter.widget-view+json": {
       "model_id": "b863a28d3b4b4be3bc627b8c9128f126",
       "version_major": 2,
       "version_minor": 0
      },
      "text/plain": [
       "Figure(layout=FigureLayout(height='420px'))"
      ]
     },
     "metadata": {},
     "output_type": "display_data"
    }
   ],
   "source": [
    "# Heatmap of percent humidity\n",
    "locations = city_data_df[[\"Lat\", \"Lng\"]]\n",
    "humidity = city_data_df[\"Humidity\"]\n",
    "fig = gmaps.figure(center=(30.0, 31.0), zoom_level=1.5)\n",
    "heat_layer = gmaps.heatmap_layer(locations, weights=humidity, dissipating=False, max_intensity=300, point_radius=4)\n",
    "\n",
    "fig.add_layer(heat_layer)\n",
    "# Call the figure to plot the data.\n",
    "fig"
   ]
  },
  {
   "cell_type": "code",
   "execution_count": 8,
   "metadata": {},
   "outputs": [
    {
     "data": {
      "application/vnd.jupyter.widget-view+json": {
       "model_id": "785de90205994089aee84d0db3a89d88",
       "version_major": 2,
       "version_minor": 0
      },
      "text/plain": [
       "Figure(layout=FigureLayout(height='420px'))"
      ]
     },
     "metadata": {},
     "output_type": "display_data"
    }
   ],
   "source": [
    "# Heatmap of percent humidity\n",
    "locations = city_data_df[[\"Lat\", \"Lng\"]]\n",
    "cloud = city_data_df[\"Cloudiness\"]\n",
    "fig = gmaps.figure(center=(30.0, 31.0), zoom_level=1.5)\n",
    "heat_layer = gmaps.heatmap_layer(locations, weights=cloud, dissipating=False, max_intensity=300, point_radius=4)\n",
    "\n",
    "fig.add_layer(heat_layer)\n",
    "# Call the figure to plot the data.\n",
    "fig"
   ]
  },
  {
   "cell_type": "code",
   "execution_count": 9,
   "metadata": {},
   "outputs": [
    {
     "data": {
      "application/vnd.jupyter.widget-view+json": {
       "model_id": "cd7ee02b9daf4a6ca644111e21533abe",
       "version_major": 2,
       "version_minor": 0
      },
      "text/plain": [
       "Figure(layout=FigureLayout(height='420px'))"
      ]
     },
     "metadata": {},
     "output_type": "display_data"
    }
   ],
   "source": [
    "# Heatmap of percent humidity\n",
    "locations = city_data_df[[\"Lat\", \"Lng\"]]\n",
    "wind = city_data_df[\"Wind Speed\"]\n",
    "fig = gmaps.figure(center=(30.0, 31.0), zoom_level=1.5)\n",
    "heat_layer = gmaps.heatmap_layer(locations, weights=wind, dissipating=False, max_intensity=300, point_radius=4)\n",
    "\n",
    "fig.add_layer(heat_layer)\n",
    "# Call the figure to plot the data.\n",
    "fig"
   ]
  },
  {
   "cell_type": "code",
   "execution_count": 10,
   "metadata": {},
   "outputs": [
    {
     "name": "stdout",
     "output_type": "stream",
     "text": [
      "What is the minimum temperature you would like for your trip? 60\n",
      "What is the maximum temperature you would like for your trip? 80\n"
     ]
    }
   ],
   "source": [
    "# Ask the customer to add a minimum and maximum temperature value.\n",
    "min_temp = float(input(\"What is the minimum temperature you would like for your trip? \"))\n",
    "max_temp = float(input(\"What is the maximum temperature you would like for your trip? \"))"
   ]
  },
  {
   "cell_type": "code",
   "execution_count": 11,
   "metadata": {},
   "outputs": [
    {
     "data": {
      "text/html": [
       "<div>\n",
       "<style scoped>\n",
       "    .dataframe tbody tr th:only-of-type {\n",
       "        vertical-align: middle;\n",
       "    }\n",
       "\n",
       "    .dataframe tbody tr th {\n",
       "        vertical-align: top;\n",
       "    }\n",
       "\n",
       "    .dataframe thead th {\n",
       "        text-align: right;\n",
       "    }\n",
       "</style>\n",
       "<table border=\"1\" class=\"dataframe\">\n",
       "  <thead>\n",
       "    <tr style=\"text-align: right;\">\n",
       "      <th></th>\n",
       "      <th>City_ID</th>\n",
       "      <th>City</th>\n",
       "      <th>Country</th>\n",
       "      <th>Date</th>\n",
       "      <th>Lat</th>\n",
       "      <th>Lng</th>\n",
       "      <th>Max Temp</th>\n",
       "      <th>Humidity</th>\n",
       "      <th>Cloudiness</th>\n",
       "      <th>Wind Speed</th>\n",
       "    </tr>\n",
       "  </thead>\n",
       "  <tbody>\n",
       "    <tr>\n",
       "      <th>0</th>\n",
       "      <td>0</td>\n",
       "      <td>Maceio</td>\n",
       "      <td>BR</td>\n",
       "      <td>2021-03-13 07:43:48</td>\n",
       "      <td>-9.6658</td>\n",
       "      <td>-35.7353</td>\n",
       "      <td>73.40</td>\n",
       "      <td>94</td>\n",
       "      <td>20</td>\n",
       "      <td>3.44</td>\n",
       "    </tr>\n",
       "    <tr>\n",
       "      <th>1</th>\n",
       "      <td>1</td>\n",
       "      <td>Jahanabad</td>\n",
       "      <td>IN</td>\n",
       "      <td>2021-03-13 07:43:49</td>\n",
       "      <td>25.2167</td>\n",
       "      <td>84.9833</td>\n",
       "      <td>75.20</td>\n",
       "      <td>56</td>\n",
       "      <td>75</td>\n",
       "      <td>6.91</td>\n",
       "    </tr>\n",
       "    <tr>\n",
       "      <th>7</th>\n",
       "      <td>7</td>\n",
       "      <td>Arraial Do Cabo</td>\n",
       "      <td>BR</td>\n",
       "      <td>2021-03-13 07:43:51</td>\n",
       "      <td>-22.9661</td>\n",
       "      <td>-42.0278</td>\n",
       "      <td>76.21</td>\n",
       "      <td>86</td>\n",
       "      <td>0</td>\n",
       "      <td>4.05</td>\n",
       "    </tr>\n",
       "    <tr>\n",
       "      <th>8</th>\n",
       "      <td>8</td>\n",
       "      <td>Saldanha</td>\n",
       "      <td>ZA</td>\n",
       "      <td>2021-03-13 07:43:52</td>\n",
       "      <td>-33.0117</td>\n",
       "      <td>17.9442</td>\n",
       "      <td>66.20</td>\n",
       "      <td>82</td>\n",
       "      <td>33</td>\n",
       "      <td>4.61</td>\n",
       "    </tr>\n",
       "    <tr>\n",
       "      <th>9</th>\n",
       "      <td>9</td>\n",
       "      <td>Harper</td>\n",
       "      <td>LR</td>\n",
       "      <td>2021-03-13 07:43:52</td>\n",
       "      <td>4.3750</td>\n",
       "      <td>-7.7169</td>\n",
       "      <td>79.02</td>\n",
       "      <td>88</td>\n",
       "      <td>100</td>\n",
       "      <td>7.11</td>\n",
       "    </tr>\n",
       "  </tbody>\n",
       "</table>\n",
       "</div>"
      ],
      "text/plain": [
       "   City_ID             City Country                 Date      Lat      Lng  \\\n",
       "0        0           Maceio      BR  2021-03-13 07:43:48  -9.6658 -35.7353   \n",
       "1        1        Jahanabad      IN  2021-03-13 07:43:49  25.2167  84.9833   \n",
       "7        7  Arraial Do Cabo      BR  2021-03-13 07:43:51 -22.9661 -42.0278   \n",
       "8        8         Saldanha      ZA  2021-03-13 07:43:52 -33.0117  17.9442   \n",
       "9        9           Harper      LR  2021-03-13 07:43:52   4.3750  -7.7169   \n",
       "\n",
       "   Max Temp  Humidity  Cloudiness  Wind Speed  \n",
       "0     73.40        94          20        3.44  \n",
       "1     75.20        56          75        6.91  \n",
       "7     76.21        86           0        4.05  \n",
       "8     66.20        82          33        4.61  \n",
       "9     79.02        88         100        7.11  "
      ]
     },
     "execution_count": 11,
     "metadata": {},
     "output_type": "execute_result"
    }
   ],
   "source": [
    "preferred_cities_df=city_data_df.loc[(city_data_df[\"Max Temp\"] >= min_temp) & (city_data_df[\"Max Temp\"] <=max_temp)]\n",
    "preferred_cities_df.head(5)\n"
   ]
  },
  {
   "cell_type": "code",
   "execution_count": 12,
   "metadata": {},
   "outputs": [
    {
     "data": {
      "text/html": [
       "<div>\n",
       "<style scoped>\n",
       "    .dataframe tbody tr th:only-of-type {\n",
       "        vertical-align: middle;\n",
       "    }\n",
       "\n",
       "    .dataframe tbody tr th {\n",
       "        vertical-align: top;\n",
       "    }\n",
       "\n",
       "    .dataframe thead th {\n",
       "        text-align: right;\n",
       "    }\n",
       "</style>\n",
       "<table border=\"1\" class=\"dataframe\">\n",
       "  <thead>\n",
       "    <tr style=\"text-align: right;\">\n",
       "      <th></th>\n",
       "      <th>City</th>\n",
       "      <th>Country</th>\n",
       "      <th>Max Temp</th>\n",
       "      <th>Lat</th>\n",
       "      <th>Lng</th>\n",
       "      <th>Hotel Name</th>\n",
       "    </tr>\n",
       "  </thead>\n",
       "  <tbody>\n",
       "    <tr>\n",
       "      <th>0</th>\n",
       "      <td>Maceio</td>\n",
       "      <td>BR</td>\n",
       "      <td>73.40</td>\n",
       "      <td>-9.6658</td>\n",
       "      <td>-35.7353</td>\n",
       "      <td></td>\n",
       "    </tr>\n",
       "    <tr>\n",
       "      <th>1</th>\n",
       "      <td>Jahanabad</td>\n",
       "      <td>IN</td>\n",
       "      <td>75.20</td>\n",
       "      <td>25.2167</td>\n",
       "      <td>84.9833</td>\n",
       "      <td></td>\n",
       "    </tr>\n",
       "    <tr>\n",
       "      <th>7</th>\n",
       "      <td>Arraial Do Cabo</td>\n",
       "      <td>BR</td>\n",
       "      <td>76.21</td>\n",
       "      <td>-22.9661</td>\n",
       "      <td>-42.0278</td>\n",
       "      <td></td>\n",
       "    </tr>\n",
       "    <tr>\n",
       "      <th>8</th>\n",
       "      <td>Saldanha</td>\n",
       "      <td>ZA</td>\n",
       "      <td>66.20</td>\n",
       "      <td>-33.0117</td>\n",
       "      <td>17.9442</td>\n",
       "      <td></td>\n",
       "    </tr>\n",
       "    <tr>\n",
       "      <th>9</th>\n",
       "      <td>Harper</td>\n",
       "      <td>LR</td>\n",
       "      <td>79.02</td>\n",
       "      <td>4.3750</td>\n",
       "      <td>-7.7169</td>\n",
       "      <td></td>\n",
       "    </tr>\n",
       "    <tr>\n",
       "      <th>10</th>\n",
       "      <td>Caravelas</td>\n",
       "      <td>BR</td>\n",
       "      <td>70.21</td>\n",
       "      <td>-17.7125</td>\n",
       "      <td>-39.2481</td>\n",
       "      <td></td>\n",
       "    </tr>\n",
       "    <tr>\n",
       "      <th>16</th>\n",
       "      <td>Pativilca</td>\n",
       "      <td>PE</td>\n",
       "      <td>69.17</td>\n",
       "      <td>-10.7000</td>\n",
       "      <td>-77.7833</td>\n",
       "      <td></td>\n",
       "    </tr>\n",
       "    <tr>\n",
       "      <th>21</th>\n",
       "      <td>Mapiripan</td>\n",
       "      <td>CO</td>\n",
       "      <td>72.52</td>\n",
       "      <td>2.8892</td>\n",
       "      <td>-72.1256</td>\n",
       "      <td></td>\n",
       "    </tr>\n",
       "    <tr>\n",
       "      <th>23</th>\n",
       "      <td>Doha</td>\n",
       "      <td>QA</td>\n",
       "      <td>77.00</td>\n",
       "      <td>25.2867</td>\n",
       "      <td>51.5333</td>\n",
       "      <td></td>\n",
       "    </tr>\n",
       "    <tr>\n",
       "      <th>26</th>\n",
       "      <td>Busselton</td>\n",
       "      <td>AU</td>\n",
       "      <td>71.01</td>\n",
       "      <td>-33.6500</td>\n",
       "      <td>115.3333</td>\n",
       "      <td></td>\n",
       "    </tr>\n",
       "  </tbody>\n",
       "</table>\n",
       "</div>"
      ],
      "text/plain": [
       "               City Country  Max Temp      Lat       Lng Hotel Name\n",
       "0            Maceio      BR     73.40  -9.6658  -35.7353           \n",
       "1         Jahanabad      IN     75.20  25.2167   84.9833           \n",
       "7   Arraial Do Cabo      BR     76.21 -22.9661  -42.0278           \n",
       "8          Saldanha      ZA     66.20 -33.0117   17.9442           \n",
       "9            Harper      LR     79.02   4.3750   -7.7169           \n",
       "10        Caravelas      BR     70.21 -17.7125  -39.2481           \n",
       "16        Pativilca      PE     69.17 -10.7000  -77.7833           \n",
       "21        Mapiripan      CO     72.52   2.8892  -72.1256           \n",
       "23             Doha      QA     77.00  25.2867   51.5333           \n",
       "26        Busselton      AU     71.01 -33.6500  115.3333           "
      ]
     },
     "execution_count": 12,
     "metadata": {},
     "output_type": "execute_result"
    }
   ],
   "source": [
    "# Create DataFrame called hotel_df to store hotel names along with city, country, max temp, and coordinates.\n",
    "hotel_df = preferred_cities_df[[\"City\", \"Country\", \"Max Temp\", \"Lat\", \"Lng\"]].copy()\n",
    "hotel_df[\"Hotel Name\"] = \"\"\n",
    "hotel_df.head(10)"
   ]
  },
  {
   "cell_type": "code",
   "execution_count": 13,
   "metadata": {},
   "outputs": [
    {
     "data": {
      "text/html": [
       "<div>\n",
       "<style scoped>\n",
       "    .dataframe tbody tr th:only-of-type {\n",
       "        vertical-align: middle;\n",
       "    }\n",
       "\n",
       "    .dataframe tbody tr th {\n",
       "        vertical-align: top;\n",
       "    }\n",
       "\n",
       "    .dataframe thead th {\n",
       "        text-align: right;\n",
       "    }\n",
       "</style>\n",
       "<table border=\"1\" class=\"dataframe\">\n",
       "  <thead>\n",
       "    <tr style=\"text-align: right;\">\n",
       "      <th></th>\n",
       "      <th>City</th>\n",
       "      <th>Country</th>\n",
       "      <th>Max Temp</th>\n",
       "      <th>Lat</th>\n",
       "      <th>Lng</th>\n",
       "      <th>Hotel Name</th>\n",
       "    </tr>\n",
       "  </thead>\n",
       "  <tbody>\n",
       "    <tr>\n",
       "      <th>0</th>\n",
       "      <td>Maceio</td>\n",
       "      <td>BR</td>\n",
       "      <td>73.40</td>\n",
       "      <td>-9.6658</td>\n",
       "      <td>-35.7353</td>\n",
       "      <td></td>\n",
       "    </tr>\n",
       "    <tr>\n",
       "      <th>1</th>\n",
       "      <td>Jahanabad</td>\n",
       "      <td>IN</td>\n",
       "      <td>75.20</td>\n",
       "      <td>25.2167</td>\n",
       "      <td>84.9833</td>\n",
       "      <td></td>\n",
       "    </tr>\n",
       "    <tr>\n",
       "      <th>7</th>\n",
       "      <td>Arraial Do Cabo</td>\n",
       "      <td>BR</td>\n",
       "      <td>76.21</td>\n",
       "      <td>-22.9661</td>\n",
       "      <td>-42.0278</td>\n",
       "      <td></td>\n",
       "    </tr>\n",
       "    <tr>\n",
       "      <th>8</th>\n",
       "      <td>Saldanha</td>\n",
       "      <td>ZA</td>\n",
       "      <td>66.20</td>\n",
       "      <td>-33.0117</td>\n",
       "      <td>17.9442</td>\n",
       "      <td></td>\n",
       "    </tr>\n",
       "    <tr>\n",
       "      <th>9</th>\n",
       "      <td>Harper</td>\n",
       "      <td>LR</td>\n",
       "      <td>79.02</td>\n",
       "      <td>4.3750</td>\n",
       "      <td>-7.7169</td>\n",
       "      <td></td>\n",
       "    </tr>\n",
       "    <tr>\n",
       "      <th>10</th>\n",
       "      <td>Caravelas</td>\n",
       "      <td>BR</td>\n",
       "      <td>70.21</td>\n",
       "      <td>-17.7125</td>\n",
       "      <td>-39.2481</td>\n",
       "      <td></td>\n",
       "    </tr>\n",
       "    <tr>\n",
       "      <th>16</th>\n",
       "      <td>Pativilca</td>\n",
       "      <td>PE</td>\n",
       "      <td>69.17</td>\n",
       "      <td>-10.7000</td>\n",
       "      <td>-77.7833</td>\n",
       "      <td></td>\n",
       "    </tr>\n",
       "    <tr>\n",
       "      <th>21</th>\n",
       "      <td>Mapiripan</td>\n",
       "      <td>CO</td>\n",
       "      <td>72.52</td>\n",
       "      <td>2.8892</td>\n",
       "      <td>-72.1256</td>\n",
       "      <td></td>\n",
       "    </tr>\n",
       "    <tr>\n",
       "      <th>23</th>\n",
       "      <td>Doha</td>\n",
       "      <td>QA</td>\n",
       "      <td>77.00</td>\n",
       "      <td>25.2867</td>\n",
       "      <td>51.5333</td>\n",
       "      <td></td>\n",
       "    </tr>\n",
       "    <tr>\n",
       "      <th>26</th>\n",
       "      <td>Busselton</td>\n",
       "      <td>AU</td>\n",
       "      <td>71.01</td>\n",
       "      <td>-33.6500</td>\n",
       "      <td>115.3333</td>\n",
       "      <td></td>\n",
       "    </tr>\n",
       "  </tbody>\n",
       "</table>\n",
       "</div>"
      ],
      "text/plain": [
       "               City Country  Max Temp      Lat       Lng Hotel Name\n",
       "0            Maceio      BR     73.40  -9.6658  -35.7353           \n",
       "1         Jahanabad      IN     75.20  25.2167   84.9833           \n",
       "7   Arraial Do Cabo      BR     76.21 -22.9661  -42.0278           \n",
       "8          Saldanha      ZA     66.20 -33.0117   17.9442           \n",
       "9            Harper      LR     79.02   4.3750   -7.7169           \n",
       "10        Caravelas      BR     70.21 -17.7125  -39.2481           \n",
       "16        Pativilca      PE     69.17 -10.7000  -77.7833           \n",
       "21        Mapiripan      CO     72.52   2.8892  -72.1256           \n",
       "23             Doha      QA     77.00  25.2867   51.5333           \n",
       "26        Busselton      AU     71.01 -33.6500  115.3333           "
      ]
     },
     "execution_count": 13,
     "metadata": {},
     "output_type": "execute_result"
    }
   ],
   "source": [
    "# Create DataFrame called hotel_df to store hotel names along with city, country, max temp, and coordinates.\n",
    "hotel_df = preferred_cities_df[[\"City\", \"Country\", \"Max Temp\", \"Lat\", \"Lng\"]].copy()\n",
    "hotel_df[\"Hotel Name\"] = \"\"\n",
    "hotel_df.head(10)"
   ]
  },
  {
   "cell_type": "code",
   "execution_count": 14,
   "metadata": {},
   "outputs": [],
   "source": [
    "# Set parameters to search for a hotel.\n",
    "params = {\n",
    "    \"radius\": 5000,\n",
    "    \"type\": \"lodging\",\n",
    "    \"key\": google_api_key\n",
    "}\n"
   ]
  },
  {
   "cell_type": "code",
   "execution_count": 22,
   "metadata": {
    "scrolled": false
   },
   "outputs": [
    {
     "name": "stdout",
     "output_type": "stream",
     "text": [
      "{'html_attributions': [], 'next_page_token': 'ATtYBwK6woTbxv4EjCOl2nSzGqvaQ_5k8SvqXa45lVM2EevIxwnTA-qpxwMsPzsBLutFR6kKRcB2a3bLhFcr0qPhJ9jFdx9gyWYZC6sWCz8uY-b_KWL9178QhVkXw4NPiibFamfwB6dmD6WrQa866-g1ybeGFBEfDbg0XkAu54YB2n1FcnBGOQrhTPLg0LrxhZo5oB_8ktWYPGDNkUV05JR11jG9ULlmqfVcue2zlUr40wsYf4_jkScbtLzDG8ZIAct4I2JNjL04KpR9oDawV5-ouveaai5b5VrEU0Hf87MlxSF6aU5kcFSL9f9BwMzLbADwvWcvtWilbYXfj7S8qoxA6Eke3gBKn3CLZI8yux2E_EiXggeoykMaUAx4a4qIJ5MdqFjQK9FsEfWzptufd3S_RdBTnZRPS9UYvfwvfH82cyGgBljOu6EzyKO2', 'results': [{'business_status': 'OPERATIONAL', 'geometry': {'location': {'lat': 48.8581126, 'lng': 2.3529277}, 'viewport': {'northeast': {'lat': 48.8594393802915, 'lng': 2.354352980291503}, 'southwest': {'lat': 48.8567414197085, 'lng': 2.351655019708499}}}, 'icon': 'https://maps.gstatic.com/mapfiles/place_api/icons/v1/png_71/lodging-71.png', 'name': 'Hôtel Duo', 'opening_hours': {'open_now': True}, 'photos': [{'height': 3840, 'html_attributions': ['<a href=\"https://maps.google.com/maps/contrib/107554201425443337224\">Hôtel Duo</a>'], 'photo_reference': 'ATtYBwJuBE676IdCGbd8uKRzMHdR3Oj6y9iAGfhgd4pz72as_lLwLNmgsDq5-icTo5CsDWSUO8PRL4ohsorGeHk4qI50Isv_1OVIvPXubxNGbRcWZyC0zigkFgJOZu9UTur-rHmJAyUxVC9VejT3mtuX95UKc6Ed56gEdqJckg_IEvKwYcg2', 'width': 5760}], 'place_id': 'ChIJWU9CqB1u5kcR5P1F2SMoJmc', 'plus_code': {'compound_code': 'V953+65 Paris, France', 'global_code': '8FW4V953+65'}, 'rating': 4.2, 'reference': 'ChIJWU9CqB1u5kcR5P1F2SMoJmc', 'scope': 'GOOGLE', 'types': ['night_club', 'spa', 'lodging', 'bar', 'gym', 'health', 'point_of_interest', 'establishment'], 'user_ratings_total': 279, 'vicinity': '11 Rue du Temple, Paris'}, {'business_status': 'OPERATIONAL', 'geometry': {'location': {'lat': 48.8582861, 'lng': 2.3464944}, 'viewport': {'northeast': {'lat': 48.8595495802915, 'lng': 2.347780980291502}, 'southwest': {'lat': 48.8568516197085, 'lng': 2.345083019708498}}}, 'icon': 'https://maps.gstatic.com/mapfiles/place_api/icons/v1/png_71/lodging-71.png', 'name': 'Hôtel Britannique - Paris Centre', 'opening_hours': {'open_now': True}, 'photos': [{'height': 1426, 'html_attributions': ['<a href=\"https://maps.google.com/maps/contrib/108984000175492464929\">Hôtel Britannique - Paris Centre</a>'], 'photo_reference': 'ATtYBwI7z3z_O14sB3tnjZSs3mJSace7EZbAXjioQMSMlRRu1yKsWVqPokxGMsmcsfQVM5veWNtXfutogbI-3R7sdhIOw90O1LvSlIqlxV0eOIa_pVz3RGbfVDohkTDpyeftyby8008AU0n7hdO_tpUkQdKDq03kr01IIx1NNsgG_09y2oRu', 'width': 1476}], 'place_id': 'ChIJ-4Siox9u5kcRm9vM6DcMXyU', 'plus_code': {'compound_code': 'V85W+8H Paris, France', 'global_code': '8FW4V85W+8H'}, 'rating': 4.6, 'reference': 'ChIJ-4Siox9u5kcRm9vM6DcMXyU', 'scope': 'GOOGLE', 'types': ['lodging', 'point_of_interest', 'establishment'], 'user_ratings_total': 466, 'vicinity': '20 Avenue Victoria, Paris'}, {'business_status': 'OPERATIONAL', 'geometry': {'location': {'lat': 48.8606655, 'lng': 2.3469293}, 'viewport': {'northeast': {'lat': 48.86176813029151, 'lng': 2.348040180291502}, 'southwest': {'lat': 48.85907016970851, 'lng': 2.345342219708498}}}, 'icon': 'https://maps.gstatic.com/mapfiles/place_api/icons/v1/png_71/lodging-71.png', 'name': 'Citadines Les Halles Paris (Apart Hotel Paris)', 'opening_hours': {'open_now': True}, 'photos': [{'height': 496, 'html_attributions': ['<a href=\"https://maps.google.com/maps/contrib/102565262508115704337\">Citadines Les Halles Paris (Apart Hotel Paris)</a>'], 'photo_reference': 'ATtYBwK_BQ5KKnwX_DEuk0-fgFrzEjstWzAaZjYEbyQrk7mEPidzzN955M3XaUPDG_zBUKQUM_wwDwFW7IhKCTu0adW4SwwNJ768Lodsvl1pF_Sa2P5bi_zZF7G-WViT0DCE-F7pHKaJ1TQ23wTbeezw94PcFntqwNRUskQtr2h9xjRvb0OL', 'width': 745}], 'place_id': 'ChIJQ_QDrxhu5kcRJzNxLLEOSfU', 'plus_code': {'compound_code': 'V86W+7Q Paris, France', 'global_code': '8FW4V86W+7Q'}, 'rating': 4.1, 'reference': 'ChIJQ_QDrxhu5kcRJzNxLLEOSfU', 'scope': 'GOOGLE', 'types': ['lodging', 'point_of_interest', 'establishment'], 'user_ratings_total': 817, 'vicinity': '4 Rue des Innocents, Paris'}, {'business_status': 'OPERATIONAL', 'geometry': {'location': {'lat': 48.8607769, 'lng': 2.3463217}, 'viewport': {'northeast': {'lat': 48.8620762802915, 'lng': 2.347628580291502}, 'southwest': {'lat': 48.8593783197085, 'lng': 2.344930619708498}}}, 'icon': 'https://maps.gstatic.com/mapfiles/place_api/icons/v1/png_71/lodging-71.png', 'name': 'Novotel Paris Les Halles', 'opening_hours': {'open_now': True}, 'photos': [{'height': 2000, 'html_attributions': ['<a href=\"https://maps.google.com/maps/contrib/111815616573299411056\">Novotel</a>'], 'photo_reference': 'ATtYBwL9ziOI0ycy-yNfSiKc4Q8vgh_d1ObQVPL6gNz8cFIRhpcxghAsn-5btAkTF_-qq_SB1zXA2gzVYYhhHc12EUJzBVSTfFFnoczsPUP1fLNDbKT5kP_59VbgPOGGUFOOfJiOm4QbRQXa0gvof5q3RaO8fSRozrzc89GOtyVJfzMGRLvB', 'width': 3000}], 'place_id': 'ChIJGW2pNx9u5kcRI3oyL8NG5BQ', 'plus_code': {'compound_code': 'V86W+8G Paris, France', 'global_code': '8FW4V86W+8G'}, 'rating': 4.4, 'reference': 'ChIJGW2pNx9u5kcRI3oyL8NG5BQ', 'scope': 'GOOGLE', 'types': ['lodging', 'point_of_interest', 'establishment'], 'user_ratings_total': 2093, 'vicinity': '8 Place Marguerite de Navarre, Paris'}, {'business_status': 'OPERATIONAL', 'geometry': {'location': {'lat': 48.86034799999999, 'lng': 2.344054}, 'viewport': {'northeast': {'lat': 48.8616503302915, 'lng': 2.345521080291502}, 'southwest': {'lat': 48.8589523697085, 'lng': 2.342823119708498}}}, 'icon': 'https://maps.gstatic.com/mapfiles/place_api/icons/v1/png_71/lodging-71.png', 'name': 'Hôtel Ducs de Bourgogne', 'opening_hours': {'open_now': True}, 'photos': [{'height': 1390, 'html_attributions': ['<a href=\"https://maps.google.com/maps/contrib/101411638353598558320\">Hôtel Ducs de Bourgogne</a>'], 'photo_reference': 'ATtYBwKalMpJ2xizrKX9S4ihrOueDvwxFFMuR9z0bSY_9VcFdmq3-fG0PLXKk4dqBedaYt4q00SeHZqxd-99eom4KBSNtIzg0Dec9dbvfBDDReR2VUbp-Z9YVAWpTOnmNm1_nRiJZKDE5pTaY02_YGQZ80wjX3IFjjuNw_-FAf2yMLSESXOn', 'width': 2048}], 'place_id': 'ChIJifTG5yFu5kcRdnisbwxnAx4', 'plus_code': {'compound_code': 'V86V+4J Paris, France', 'global_code': '8FW4V86V+4J'}, 'rating': 4.5, 'reference': 'ChIJifTG5yFu5kcRdnisbwxnAx4', 'scope': 'GOOGLE', 'types': ['lodging', 'point_of_interest', 'establishment'], 'user_ratings_total': 276, 'vicinity': '19 Rue du Pont Neuf, Paris'}, {'business_status': 'OPERATIONAL', 'geometry': {'location': {'lat': 48.8555091, 'lng': 2.3408736}, 'viewport': {'northeast': {'lat': 48.8569076302915, 'lng': 2.342319280291502}, 'southwest': {'lat': 48.8542096697085, 'lng': 2.339621319708498}}}, 'icon': 'https://maps.gstatic.com/mapfiles/place_api/icons/v1/png_71/lodging-71.png', 'name': 'Citadines Saint-Germain-des-Prés Paris', 'opening_hours': {'open_now': True}, 'photos': [{'height': 3024, 'html_attributions': ['<a href=\"https://maps.google.com/maps/contrib/107856881779358840274\">David O&#39;Meara</a>'], 'photo_reference': 'ATtYBwITP1doTB5gfT07Z93fi1n0j0rEZ4uk57eVa7R4nt8E3-ATKROyqSqX8eW3JNrXB3k3qJoEQ3RbCUySX9BeOJ48h6byOpyIga_qaOhrwRltn0bejVswUV_uAYjJZJ36ZJ0s0JUWma65uVASb2dK_cC2_mlzBWb3yVhDy3vPaUs5YUZz', 'width': 4032}], 'place_id': 'ChIJo5pYcN9x5kcRERXdocMgqmE', 'plus_code': {'compound_code': 'V84R+68 Paris, France', 'global_code': '8FW4V84R+68'}, 'rating': 4.3, 'reference': 'ChIJo5pYcN9x5kcRERXdocMgqmE', 'scope': 'GOOGLE', 'types': ['lodging', 'point_of_interest', 'establishment'], 'user_ratings_total': 660, 'vicinity': '53 ter Quai des Grands Augustins, Paris'}, {'business_status': 'OPERATIONAL', 'geometry': {'location': {'lat': 48.86634659999999, 'lng': 2.36064}, 'viewport': {'northeast': {'lat': 48.86774953029149, 'lng': 2.361898330291501}, 'southwest': {'lat': 48.86505156970849, 'lng': 2.359200369708498}}}, 'icon': 'https://maps.gstatic.com/mapfiles/place_api/icons/v1/png_71/lodging-71.png', 'name': 'Paris France Hôtel', 'opening_hours': {'open_now': True}, 'photos': [{'height': 2673, 'html_attributions': ['<a href=\"https://maps.google.com/maps/contrib/102332962500946068613\">Paris France Hôtel</a>'], 'photo_reference': 'ATtYBwK-sPKLBQ4OPHpUAPhD1lZukOUSU38S15L_QqkPr4741pmbvmbd1l10zKLocS6_OzdfcoiArhnlqUBqbjWSy4OmMsBZeaFaV-DaFUSZULAU-hyJN1QZfsii44OiWDqgpJfRGdHD7D99bAIWG9znOD3ckjciTRuBgK-EsqyduEaq8ICZ', 'width': 3463}], 'place_id': 'ChIJhXWLZg9u5kcRDVyqoZYgcmg', 'plus_code': {'compound_code': 'V986+G7 Paris, France', 'global_code': '8FW4V986+G7'}, 'rating': 4.3, 'reference': 'ChIJhXWLZg9u5kcRDVyqoZYgcmg', 'scope': 'GOOGLE', 'types': ['lodging', 'point_of_interest', 'establishment'], 'user_ratings_total': 378, 'vicinity': '72 Rue de Turbigo, Paris'}, {'business_status': 'CLOSED_TEMPORARILY', 'geometry': {'location': {'lat': 48.86386539999999, 'lng': 2.3325488}, 'viewport': {'northeast': {'lat': 48.8650759802915, 'lng': 2.333775730291502}, 'southwest': {'lat': 48.8623780197085, 'lng': 2.331077769708498}}}, 'icon': 'https://maps.gstatic.com/mapfiles/place_api/icons/v1/png_71/lodging-71.png', 'name': 'Hotel Regina Louvre', 'permanently_closed': True, 'photos': [{'height': 3700, 'html_attributions': ['<a href=\"https://maps.google.com/maps/contrib/109908333790946649027\">Hôtel Regina Louvre</a>'], 'photo_reference': 'ATtYBwJ7-kOdjhsXjp8x_8tSoGeBM_qfwwrryIpatAyGCMMi-UWhy8YzBNnlbRBogP3lz6rTuLVZaCPD9p6ibGLnQbjTAQqASrC6_1wDB70ttmiZQzJZQkar2Ew8Fj1Yxy-vBIUhPP3o-9wetuySFUSCXjec4cy52B-QGmuPjMJk5Qs9kLUw', 'width': 5550}], 'place_id': 'ChIJP_-HCS9u5kcRsj9b1x7Pl8w', 'plus_code': {'compound_code': 'V87M+G2 Paris, France', 'global_code': '8FW4V87M+G2'}, 'rating': 4.5, 'reference': 'ChIJP_-HCS9u5kcRsj9b1x7Pl8w', 'scope': 'GOOGLE', 'types': ['lodging', 'bar', 'restaurant', 'food', 'point_of_interest', 'establishment'], 'user_ratings_total': 503, 'vicinity': '2 Place des Pyramides, Paris'}, {'business_status': 'OPERATIONAL', 'geometry': {'location': {'lat': 48.84795229999999, 'lng': 2.370869}, 'viewport': {'northeast': {'lat': 48.8492035302915, 'lng': 2.372290080291501}, 'southwest': {'lat': 48.8465055697085, 'lng': 2.369592119708498}}}, 'icon': 'https://maps.gstatic.com/mapfiles/place_api/icons/v1/png_71/lodging-71.png', 'name': 'ibis Paris Gare de Lyon Ledru Rollin 12ème', 'opening_hours': {'open_now': True}, 'photos': [{'height': 3024, 'html_attributions': ['<a href=\"https://maps.google.com/maps/contrib/102166088584622554231\">cherry pyj</a>'], 'photo_reference': 'ATtYBwIrrtt5_TiknS0N1jB_zhmbce6JRgBPzODyRyn7o5tY5C0Hw0baSo4_-G2jcRHqoAZRDtVpfbgNmBolM-0WGlH-wjWe2VyNEZVlgrOGmQXZm33C9UE6JxKsD0T6abqmDn9O0VOKuev84Gnk0sEuG41fnkn5DwxqdrbOJrvqx0EkNk26', 'width': 4032}], 'place_id': 'ChIJ9RNxcQNy5kcRnZJ4vsuXcow', 'plus_code': {'compound_code': 'R9XC+58 Paris, France', 'global_code': '8FW4R9XC+58'}, 'rating': 4, 'reference': 'ChIJ9RNxcQNy5kcRnZJ4vsuXcow', 'scope': 'GOOGLE', 'types': ['lodging', 'point_of_interest', 'establishment'], 'user_ratings_total': 756, 'vicinity': '41/43 Avenue Ledru Rollin, Paris'}, {'business_status': 'OPERATIONAL', 'geometry': {'location': {'lat': 48.8710647, 'lng': 2.34991}, 'viewport': {'northeast': {'lat': 48.87241888029151, 'lng': 2.351188530291502}, 'southwest': {'lat': 48.86972091970851, 'lng': 2.348490569708498}}}, 'icon': 'https://maps.gstatic.com/mapfiles/place_api/icons/v1/png_71/lodging-71.png', 'name': 'Hôtel des Comédies Paris', 'photos': [{'height': 683, 'html_attributions': ['<a href=\"https://maps.google.com/maps/contrib/108479076312462330074\">Hotels World Online</a>'], 'photo_reference': 'ATtYBwLaMLsct1tzCjJgEI8GgPyGyDBkTYb0Rr7Ot75n4abE2yGYB_PVrlMWu7lHTkvSq46ACfz40ZQwqp43_gDIiJNOfMzK5TjP-JyRGyLDCNQMpzXnHVjpKtqE4xylQE_PIzrbPbLhKgz9JTTBQu4RQ2oQhouOarrywMo6rgobXhb4o-HM', 'width': 1024}], 'place_id': 'ChIJn6ginxZu5kcRmAEK0OHm0cI', 'plus_code': {'compound_code': 'V8CX+CX Paris, France', 'global_code': '8FW4V8CX+CX'}, 'rating': 4.2, 'reference': 'ChIJn6ginxZu5kcRmAEK0OHm0cI', 'scope': 'GOOGLE', 'types': ['lodging', 'point_of_interest', 'establishment'], 'user_ratings_total': 194, 'vicinity': \"8 Rue d'Hauteville, Paris\"}, {'business_status': 'OPERATIONAL', 'geometry': {'location': {'lat': 48.84754640000001, 'lng': 2.3718722}, 'viewport': {'northeast': {'lat': 48.8488750302915, 'lng': 2.373125480291502}, 'southwest': {'lat': 48.8461770697085, 'lng': 2.370427519708498}}}, 'icon': 'https://maps.gstatic.com/mapfiles/place_api/icons/v1/png_71/lodging-71.png', 'name': 'Hôtel De France Gare de Lyon Bastille', 'photos': [{'height': 4000, 'html_attributions': ['<a href=\"https://maps.google.com/maps/contrib/113105128703711088928\">david szczepaniak</a>'], 'photo_reference': 'ATtYBwJOXiPSJ6xk7lgI756_Jz9xLBfXmoc2M-1UT8hDc1lF3VcZPKnfCkyOxSk0D028lFTZteFyNDrdVysNM5KRh7WDann-1__huXucXFpj_AIIHtHhdx5TJRRekSJljvVUy_tiyysC_bUXhkSK90PPv9ou2mZRsjnIAA_cb99rAGZZi0f4', 'width': 3000}], 'place_id': 'ChIJz6DBYgNy5kcRhOu1LhDIECM', 'plus_code': {'compound_code': 'R9XC+2P Paris, France', 'global_code': '8FW4R9XC+2P'}, 'rating': 3.3, 'reference': 'ChIJz6DBYgNy5kcRhOu1LhDIECM', 'scope': 'GOOGLE', 'types': ['lodging', 'point_of_interest', 'establishment'], 'user_ratings_total': 380, 'vicinity': '12 Rue de Lyon, Paris'}, {'business_status': 'OPERATIONAL', 'geometry': {'location': {'lat': 48.8717386, 'lng': 2.3447052}, 'viewport': {'northeast': {'lat': 48.8731394302915, 'lng': 2.346067130291502}, 'southwest': {'lat': 48.8704414697085, 'lng': 2.343369169708498}}}, 'icon': 'https://maps.gstatic.com/mapfiles/place_api/icons/v1/png_71/lodging-71.png', 'name': 'Hôtel Prélude Opéra Paris', 'opening_hours': {'open_now': True}, 'photos': [{'height': 1152, 'html_attributions': ['<a href=\"https://maps.google.com/maps/contrib/103624474621674096768\">carlos MARTINEZ</a>'], 'photo_reference': 'ATtYBwIS8b9_WDOl4P6Y5pvoK0BG62_rHRhIf6Baz1yLX9ia_-6UzEg2QGi_-2nwOtIqCP9puCVBgpvIcXXts18jVfAdIu9Qgm_MvK90VvJpHG_dGfX2LH0O2w5PWiPJtVJBxC9e64hJz3phXHox45kNwAjuL2XsXjJgmkEjBY0D1ob1A49n', 'width': 2048}], 'place_id': 'ChIJ8e3Qcj5u5kcR2MIGwNxustk', 'plus_code': {'compound_code': 'V8CV+MV Paris, France', 'global_code': '8FW4V8CV+MV'}, 'rating': 4.1, 'reference': 'ChIJ8e3Qcj5u5kcR2MIGwNxustk', 'scope': 'GOOGLE', 'types': ['lodging', 'point_of_interest', 'establishment'], 'user_ratings_total': 325, 'vicinity': '8 Cité Bergère, Paris'}, {'business_status': 'OPERATIONAL', 'geometry': {'location': {'lat': 48.8423491, 'lng': 2.3632246}, 'viewport': {'northeast': {'lat': 48.84365908029149, 'lng': 2.364711430291502}, 'southwest': {'lat': 48.8409611197085, 'lng': 2.362013469708498}}}, 'icon': 'https://maps.gstatic.com/mapfiles/place_api/icons/v1/png_71/lodging-71.png', 'name': 'Hôtel Libertel Austerlitz Jardin des Plantes', 'opening_hours': {'open_now': True}, 'photos': [{'height': 4480, 'html_attributions': ['<a href=\"https://maps.google.com/maps/contrib/114802271282641766772\">Hôtel Libertel Austerlitz Jardin des Plantes</a>'], 'photo_reference': 'ATtYBwKjv9-H219LlgFLBrX40U737dBQ-juLGGEDt7Un9VLswehyoOt29FDXy9-C9bxJZyJKnEdRuinKlNSb8zf83tPi5u4NHhY3ZkoCwPkc78VbK5pms3rUs0Uokgh5rUTfz7_AW5AbgymB4YSpQDG-4kuml-z68zYOCHQJXB_t8zuCMLYH', 'width': 6720}], 'place_id': 'ChIJe-udXPZx5kcRKURHNFv5BSw', 'plus_code': {'compound_code': 'R9R7+W7 Paris, France', 'global_code': '8FW4R9R7+W7'}, 'rating': 4, 'reference': 'ChIJe-udXPZx5kcRKURHNFv5BSw', 'scope': 'GOOGLE', 'types': ['lodging', 'point_of_interest', 'establishment'], 'user_ratings_total': 433, 'vicinity': \"12 Boulevard de l'Hôpital, Paris\"}, {'business_status': 'OPERATIONAL', 'geometry': {'location': {'lat': 48.864294, 'lng': 2.3307997}, 'viewport': {'northeast': {'lat': 48.8655772302915, 'lng': 2.332153880291502}, 'southwest': {'lat': 48.8628792697085, 'lng': 2.329455919708498}}}, 'icon': 'https://maps.gstatic.com/mapfiles/place_api/icons/v1/png_71/lodging-71.png', 'name': 'Saint James Albany Paris Hôtel Spa', 'opening_hours': {'open_now': True}, 'photos': [{'height': 1365, 'html_attributions': ['<a href=\"https://maps.google.com/maps/contrib/108570400659068256718\">Saint James Albany Paris Hôtel Spa</a>'], 'photo_reference': 'ATtYBwJ1nMnx3XqLKofXTSa9UAuOrg31u_nrENYvQ312685K1C_kwR0cgTwupBojCWCt1NkEsShNwbpI7eS4C2yeMYj_An-uxdELp501UMCeDfjtEizvcvD4xYDS63r0YlO_7zw14tjeCUjGyn3cjtco6_9bop_iO5xGN5fkjqGsPRRq8JaR', 'width': 2048}], 'place_id': 'ChIJ8znTVS5u5kcREq8TmzOICFs', 'plus_code': {'compound_code': 'V87J+P8 Paris, France', 'global_code': '8FW4V87J+P8'}, 'rating': 4, 'reference': 'ChIJ8znTVS5u5kcREq8TmzOICFs', 'scope': 'GOOGLE', 'types': ['lodging', 'bar', 'restaurant', 'food', 'point_of_interest', 'establishment'], 'user_ratings_total': 1072, 'vicinity': '202 Rue de Rivoli, Paris'}, {'business_status': 'OPERATIONAL', 'geometry': {'location': {'lat': 48.87110329999999, 'lng': 2.3389728}, 'viewport': {'northeast': {'lat': 48.8724975302915, 'lng': 2.340102880291502}, 'southwest': {'lat': 48.8697995697085, 'lng': 2.337404919708498}}}, 'icon': 'https://maps.gstatic.com/mapfiles/place_api/icons/v1/png_71/lodging-71.png', 'name': 'Hôtel Icône', 'opening_hours': {'open_now': True}, 'photos': [{'height': 1066, 'html_attributions': ['<a href=\"https://maps.google.com/maps/contrib/108137830440312077288\">Hôtel Icône</a>'], 'photo_reference': 'ATtYBwLakO0IvLSTFQG1aW57RWg9SKbvKHRqdIbqcd38j_LKiaMdKkv3dR1yyguhkBk-yG8Ul6Dkv8QmWQDOs6PRdhneLMrnH1ivsooV8Njwt7TZEqqeQhwh40AKwZpZj_FAmBGsWU_1bEsVMjvApWgu9_RvSuevG2F_Ziqzk7UY_lOYRWig', 'width': 1600}], 'place_id': 'ChIJpQvq5Dtu5kcR0COam2f7v_I', 'plus_code': {'compound_code': 'V8CQ+CH Paris, France', 'global_code': '8FW4V8CQ+CH'}, 'rating': 3.7, 'reference': 'ChIJpQvq5Dtu5kcR0COam2f7v_I', 'scope': 'GOOGLE', 'types': ['lodging', 'point_of_interest', 'establishment'], 'user_ratings_total': 135, 'vicinity': \"4 Rue d'Amboise, Paris\"}, {'business_status': 'OPERATIONAL', 'geometry': {'location': {'lat': 48.8524547, 'lng': 2.3472064}, 'viewport': {'northeast': {'lat': 48.85380223029149, 'lng': 2.348557280291502}, 'southwest': {'lat': 48.85110426970849, 'lng': 2.345859319708498}}}, 'icon': 'https://maps.gstatic.com/mapfiles/place_api/icons/v1/png_71/lodging-71.png', 'name': 'Hôtel Esmeralda', 'opening_hours': {'open_now': True}, 'photos': [{'height': 1960, 'html_attributions': ['<a href=\"https://maps.google.com/maps/contrib/106443224837840180239\">Fraz A. Khan</a>'], 'photo_reference': 'ATtYBwJ95Ar2ms4dOlc1AnFdh_2JnR-5kBVn7sdv1_UisdGWSawhVQhfkbTl4oqt07JRCmiXAS6YTYxW5ZhzXm1fhvK2RqtuZatsxXwxRI17HzMahkJQu-waCxOKCaBElSNRxExeLvoKLyixTWtk78SV9RWZ58eODB7RZ2R4998YmWJwBDyt', 'width': 4032}], 'place_id': 'ChIJO_g_H-Fx5kcRmaabUHA3dT4', 'plus_code': {'compound_code': 'V82W+XV Paris, France', 'global_code': '8FW4V82W+XV'}, 'rating': 4.1, 'reference': 'ChIJO_g_H-Fx5kcRmaabUHA3dT4', 'scope': 'GOOGLE', 'types': ['lodging', 'point_of_interest', 'establishment'], 'user_ratings_total': 139, 'vicinity': '4 Rue Saint-Julien le Pauvre, Paris'}, {'business_status': 'OPERATIONAL', 'geometry': {'location': {'lat': 48.8530901, 'lng': 2.3447174}, 'viewport': {'northeast': {'lat': 48.8544403302915, 'lng': 2.346001280291502}, 'southwest': {'lat': 48.8517423697085, 'lng': 2.343303319708498}}}, 'icon': 'https://maps.gstatic.com/mapfiles/place_api/icons/v1/png_71/lodging-71.png', 'name': 'Albe Hotel', 'opening_hours': {'open_now': True}, 'photos': [{'height': 1152, 'html_attributions': ['<a href=\"https://maps.google.com/maps/contrib/117571951379278191466\">Albe Hotel Saint Michel</a>'], 'photo_reference': 'ATtYBwJbgP2LaZTKXgM2duDYA1UVrN-1KrY5bp8Y2oKG19bABAOEhpujBIVb6orhsbrj7VevlNO02EeeNwKRLJCZei99-lWlVfi3Oks9IAIa8HeA59rnfE_fQSiYU5okF7_Qaxp28pD2Qk2DFEAyvNcSdD3Eq6WHQXlNyDZTyA4XU0jbndz0', 'width': 1600}], 'place_id': 'ChIJ8R5-hOBx5kcRsCOdfj8GLeY', 'plus_code': {'compound_code': 'V83V+6V Paris, France', 'global_code': '8FW4V83V+6V'}, 'rating': 4.4, 'reference': 'ChIJ8R5-hOBx5kcRsCOdfj8GLeY', 'scope': 'GOOGLE', 'types': ['lodging', 'point_of_interest', 'establishment'], 'user_ratings_total': 321, 'vicinity': '1 Rue de la Harpe, Paris'}, {'business_status': 'OPERATIONAL', 'geometry': {'location': {'lat': 48.8499394, 'lng': 2.3462397}, 'viewport': {'northeast': {'lat': 48.8513262802915, 'lng': 2.347607430291502}, 'southwest': {'lat': 48.8486283197085, 'lng': 2.344909469708498}}}, 'icon': 'https://maps.gstatic.com/mapfiles/place_api/icons/v1/png_71/lodging-71.png', 'name': 'Home Latin', 'photos': [{'height': 606, 'html_attributions': ['<a href=\"https://maps.google.com/maps/contrib/105830788751825835396\">Peter Sheehan</a>'], 'photo_reference': 'ATtYBwIcN58m47UOpY-ZNWOrY0S7t4DrRsR89HohqgffiY6XVnndETWxJLmZGgFe1hKL4TJWYQTQJvzV_6CNUN82mufdORFzpGU9Ac69sNS-B91FIFkgkorY6AsBPXsocNMBVVUJGJh540V14PwEXoCoG2XKwJ-5u7xDiik-ORFgG62h5lZn', 'width': 1080}], 'place_id': 'ChIJMWNDIudx5kcRupjNdNDYKkw', 'plus_code': {'compound_code': 'R8XW+XF Paris, France', 'global_code': '8FW4R8XW+XF'}, 'rating': 3.6, 'reference': 'ChIJMWNDIudx5kcRupjNdNDYKkw', 'scope': 'GOOGLE', 'types': ['lodging', 'point_of_interest', 'establishment'], 'user_ratings_total': 265, 'vicinity': '15-17 Rue du Sommerard, Paris'}, {'business_status': 'CLOSED_TEMPORARILY', 'geometry': {'location': {'lat': 48.85473870000001, 'lng': 2.3395455}, 'viewport': {'northeast': {'lat': 48.8561127802915, 'lng': 2.340820530291502}, 'southwest': {'lat': 48.8534148197085, 'lng': 2.338122569708498}}}, 'icon': 'https://maps.gstatic.com/mapfiles/place_api/icons/v1/png_71/lodging-71.png', 'name': \"Hôtel d'Aubusson\", 'permanently_closed': True, 'photos': [{'height': 3568, 'html_attributions': ['<a href=\"https://maps.google.com/maps/contrib/115702439863948549296\">Hôtel d&#39;Aubusson Paris</a>'], 'photo_reference': 'ATtYBwKERQCQtGEmBVOwK-8V7g20MU42ugLdPE-Cc_BvoDOveGCfgWo_m3to9GGEh-LixaNpbF8fruddNhTeIGM9ndTELU57mAU7MJSGpbk96vD7haGtgrlin4MYR-XUMzEBkW40f2I0P2s2OC96-n5miuVa8n7g8p1yI2n6ZrOUcZ6qPa2b', 'width': 5353}], 'place_id': 'ChIJk6ztMN9x5kcREpQ8edWOs7E', 'plus_code': {'compound_code': 'V83Q+VR Paris, France', 'global_code': '8FW4V83Q+VR'}, 'rating': 4.7, 'reference': 'ChIJk6ztMN9x5kcREpQ8edWOs7E', 'scope': 'GOOGLE', 'types': ['lodging', 'point_of_interest', 'establishment'], 'user_ratings_total': 275, 'vicinity': '33 Rue Dauphine, Paris'}, {'business_status': 'OPERATIONAL', 'geometry': {'location': {'lat': 48.85184049999999, 'lng': 2.3448082}, 'viewport': {'northeast': {'lat': 48.85313113029149, 'lng': 2.346144730291502}, 'southwest': {'lat': 48.8504331697085, 'lng': 2.343446769708498}}}, 'icon': 'https://maps.gstatic.com/mapfiles/place_api/icons/v1/png_71/lodging-71.png', 'name': 'Hôtel 4 étoiles Parc Saint Séverin Paris 5ème - Esprit de France', 'opening_hours': {'open_now': True}, 'photos': [{'height': 2362, 'html_attributions': ['<a href=\"https://maps.google.com/maps/contrib/107542132357877294567\">Hôtel 4 étoiles Parc Saint Séverin Paris 5ème - Esprit de France</a>'], 'photo_reference': 'ATtYBwIPXuK8IttY5D_uiqNnc3OU0eY0_vMJDbpJL_DBZrUnDXpRDeqvhVwlhmZ1gKf-mkPLydcOJt-LRfbyEPRkBHhqeBzx3lhioL5GFgVQeQRrFjm5gpq9mfZPu7GrzioVmt5oW4k_2ZUly5O_m4DXpni--t2M_Z5SV5Asmpjk3UxQVhhU', 'width': 3776}], 'place_id': 'ChIJ9--kuuBx5kcRojwQ1yEK2cY', 'plus_code': {'compound_code': 'V82V+PW Paris, France', 'global_code': '8FW4V82V+PW'}, 'rating': 4.6, 'reference': 'ChIJ9--kuuBx5kcRojwQ1yEK2cY', 'scope': 'GOOGLE', 'types': ['lodging', 'point_of_interest', 'establishment'], 'user_ratings_total': 139, 'vicinity': '22 Rue de la Parcheminerie, Paris'}], 'status': 'OK'}\n"
     ]
    }
   ],
   "source": [
    "# Set the parameters to search for a hotel in Paris.\n",
    "params = {\n",
    "    \"radius\": 5000,\n",
    "    \"types\": \"lodging\",\n",
    "    \"key\": google_api_key,\n",
    "    \"location\": \"48.8566, 2.3522\"}\n",
    "# Use base URL to search for hotels in Paris.\n",
    "base_url = \"https://maps.googleapis.com/maps/api/place/nearbysearch/json\"\n",
    "# Make request and get the JSON data from the search.\n",
    "hotels = requests.get(base_url, params=params).json()\n",
    "\n",
    "print(hotels)"
   ]
  },
  {
   "cell_type": "code",
   "execution_count": 16,
   "metadata": {},
   "outputs": [
    {
     "name": "stdout",
     "output_type": "stream",
     "text": [
      "Hotel not found... skipping.\n",
      "Hotel not found... skipping.\n",
      "Hotel not found... skipping.\n",
      "Hotel not found... skipping.\n",
      "Hotel not found... skipping.\n",
      "Hotel not found... skipping.\n",
      "Hotel not found... skipping.\n",
      "Hotel not found... skipping.\n",
      "Hotel not found... skipping.\n"
     ]
    }
   ],
   "source": [
    "params = {\n",
    "    \"radius\": 5000,\n",
    "    \"type\": \"lodging\",\n",
    "    \"key\": google_api_key\n",
    "}\n",
    "# Iterate through the DataFrame.\n",
    "for index, row in hotel_df.iterrows():\n",
    "    # Get the latitude and longitude.\n",
    "    lat = row[\"Lat\"]\n",
    "    lng = row[\"Lng\"]\n",
    "\n",
    "    # Add the latitude and longitude to location key for the params dictionary.\n",
    "    params[\"location\"] = f\"{lat},{lng}\"\n",
    "\n",
    "   # Use the search term: \"lodging\" and our latitude and longitude.\n",
    "    base_url = \"https://maps.googleapis.com/maps/api/place/nearbysearch/json\"\n",
    "    # Make request and get the JSON data from the search.\n",
    "    hotels = requests.get(base_url, params=params).json()\n",
    "    # Grab the first hotel from the results and store the name.\n",
    "    try:\n",
    "        hotel_df.loc[index, \"Hotel Name\"] = hotels[\"results\"][0][\"name\"]\n",
    "    except (IndexError):\n",
    "        print(\"Hotel not found... skipping.\")    "
   ]
  },
  {
   "cell_type": "code",
   "execution_count": 17,
   "metadata": {},
   "outputs": [
    {
     "data": {
      "text/html": [
       "<div>\n",
       "<style scoped>\n",
       "    .dataframe tbody tr th:only-of-type {\n",
       "        vertical-align: middle;\n",
       "    }\n",
       "\n",
       "    .dataframe tbody tr th {\n",
       "        vertical-align: top;\n",
       "    }\n",
       "\n",
       "    .dataframe thead th {\n",
       "        text-align: right;\n",
       "    }\n",
       "</style>\n",
       "<table border=\"1\" class=\"dataframe\">\n",
       "  <thead>\n",
       "    <tr style=\"text-align: right;\">\n",
       "      <th></th>\n",
       "      <th>City</th>\n",
       "      <th>Country</th>\n",
       "      <th>Max Temp</th>\n",
       "      <th>Lat</th>\n",
       "      <th>Lng</th>\n",
       "      <th>Hotel Name</th>\n",
       "    </tr>\n",
       "  </thead>\n",
       "  <tbody>\n",
       "    <tr>\n",
       "      <th>0</th>\n",
       "      <td>Maceio</td>\n",
       "      <td>BR</td>\n",
       "      <td>73.40</td>\n",
       "      <td>-9.6658</td>\n",
       "      <td>-35.7353</td>\n",
       "      <td>Hotel e Pousada Rita de Cassia</td>\n",
       "    </tr>\n",
       "    <tr>\n",
       "      <th>1</th>\n",
       "      <td>Jahanabad</td>\n",
       "      <td>IN</td>\n",
       "      <td>75.20</td>\n",
       "      <td>25.2167</td>\n",
       "      <td>84.9833</td>\n",
       "      <td>Satyam-Shivam-Palak Residency</td>\n",
       "    </tr>\n",
       "    <tr>\n",
       "      <th>7</th>\n",
       "      <td>Arraial Do Cabo</td>\n",
       "      <td>BR</td>\n",
       "      <td>76.21</td>\n",
       "      <td>-22.9661</td>\n",
       "      <td>-42.0278</td>\n",
       "      <td>Ocean View Hotel</td>\n",
       "    </tr>\n",
       "    <tr>\n",
       "      <th>8</th>\n",
       "      <td>Saldanha</td>\n",
       "      <td>ZA</td>\n",
       "      <td>66.20</td>\n",
       "      <td>-33.0117</td>\n",
       "      <td>17.9442</td>\n",
       "      <td>Saldanha Bay Hotel</td>\n",
       "    </tr>\n",
       "    <tr>\n",
       "      <th>9</th>\n",
       "      <td>Harper</td>\n",
       "      <td>LR</td>\n",
       "      <td>79.02</td>\n",
       "      <td>4.3750</td>\n",
       "      <td>-7.7169</td>\n",
       "      <td>Cape View Guest House</td>\n",
       "    </tr>\n",
       "    <tr>\n",
       "      <th>...</th>\n",
       "      <td>...</td>\n",
       "      <td>...</td>\n",
       "      <td>...</td>\n",
       "      <td>...</td>\n",
       "      <td>...</td>\n",
       "      <td>...</td>\n",
       "    </tr>\n",
       "    <tr>\n",
       "      <th>511</th>\n",
       "      <td>Oranjemund</td>\n",
       "      <td>NaN</td>\n",
       "      <td>70.99</td>\n",
       "      <td>-28.5500</td>\n",
       "      <td>16.4333</td>\n",
       "      <td>The Fisherman's Cove</td>\n",
       "    </tr>\n",
       "    <tr>\n",
       "      <th>514</th>\n",
       "      <td>Mayumba</td>\n",
       "      <td>GA</td>\n",
       "      <td>79.57</td>\n",
       "      <td>-3.4320</td>\n",
       "      <td>10.6554</td>\n",
       "      <td>Résidence Hôtelière FABSO</td>\n",
       "    </tr>\n",
       "    <tr>\n",
       "      <th>519</th>\n",
       "      <td>Ovejas</td>\n",
       "      <td>CO</td>\n",
       "      <td>72.19</td>\n",
       "      <td>9.5325</td>\n",
       "      <td>-75.2238</td>\n",
       "      <td>jhvuyfytdtfgxcjfjxc</td>\n",
       "    </tr>\n",
       "    <tr>\n",
       "      <th>520</th>\n",
       "      <td>Busselton</td>\n",
       "      <td>AU</td>\n",
       "      <td>71.01</td>\n",
       "      <td>-33.6500</td>\n",
       "      <td>115.3333</td>\n",
       "      <td>Restawile Motel</td>\n",
       "    </tr>\n",
       "    <tr>\n",
       "      <th>522</th>\n",
       "      <td>Bubaque</td>\n",
       "      <td>GW</td>\n",
       "      <td>77.99</td>\n",
       "      <td>11.2833</td>\n",
       "      <td>-15.8333</td>\n",
       "      <td>Aparthotel Cruz Pontes</td>\n",
       "    </tr>\n",
       "  </tbody>\n",
       "</table>\n",
       "<p>186 rows × 6 columns</p>\n",
       "</div>"
      ],
      "text/plain": [
       "                City Country  Max Temp      Lat       Lng  \\\n",
       "0             Maceio      BR     73.40  -9.6658  -35.7353   \n",
       "1          Jahanabad      IN     75.20  25.2167   84.9833   \n",
       "7    Arraial Do Cabo      BR     76.21 -22.9661  -42.0278   \n",
       "8           Saldanha      ZA     66.20 -33.0117   17.9442   \n",
       "9             Harper      LR     79.02   4.3750   -7.7169   \n",
       "..               ...     ...       ...      ...       ...   \n",
       "511       Oranjemund     NaN     70.99 -28.5500   16.4333   \n",
       "514          Mayumba      GA     79.57  -3.4320   10.6554   \n",
       "519           Ovejas      CO     72.19   9.5325  -75.2238   \n",
       "520        Busselton      AU     71.01 -33.6500  115.3333   \n",
       "522          Bubaque      GW     77.99  11.2833  -15.8333   \n",
       "\n",
       "                         Hotel Name  \n",
       "0    Hotel e Pousada Rita de Cassia  \n",
       "1     Satyam-Shivam-Palak Residency  \n",
       "7                  Ocean View Hotel  \n",
       "8                Saldanha Bay Hotel  \n",
       "9             Cape View Guest House  \n",
       "..                              ...  \n",
       "511            The Fisherman's Cove  \n",
       "514       Résidence Hôtelière FABSO  \n",
       "519             jhvuyfytdtfgxcjfjxc  \n",
       "520                 Restawile Motel  \n",
       "522          Aparthotel Cruz Pontes  \n",
       "\n",
       "[186 rows x 6 columns]"
      ]
     },
     "execution_count": 17,
     "metadata": {},
     "output_type": "execute_result"
    }
   ],
   "source": [
    "hotel_df"
   ]
  },
  {
   "cell_type": "code",
   "execution_count": 18,
   "metadata": {},
   "outputs": [
    {
     "data": {
      "application/vnd.jupyter.widget-view+json": {
       "model_id": "ee6c4fb163d148a9a5c23aeed738b885",
       "version_major": 2,
       "version_minor": 0
      },
      "text/plain": [
       "Figure(layout=FigureLayout(height='420px'))"
      ]
     },
     "metadata": {},
     "output_type": "display_data"
    }
   ],
   "source": [
    "# Add a heatmap of temperature for the vacation spots.\n",
    "locations = hotel_df[[\"Lat\", \"Lng\"]]\n",
    "max_temp = hotel_df[\"Max Temp\"]\n",
    "fig = gmaps.figure(center=(30.0, 31.0), zoom_level=1.5)\n",
    "heat_layer = gmaps.heatmap_layer(locations, weights=max_temp, dissipating=False,\n",
    "             max_intensity=300, point_radius=4)\n",
    "\n",
    "fig.add_layer(heat_layer)\n",
    "# Call the figure to plot the data.\n",
    "fig"
   ]
  },
  {
   "cell_type": "code",
   "execution_count": 19,
   "metadata": {},
   "outputs": [
    {
     "data": {
      "application/vnd.jupyter.widget-view+json": {
       "model_id": "8f5eb2eeaa1b475d84101d0da752dbae",
       "version_major": 2,
       "version_minor": 0
      },
      "text/plain": [
       "Figure(layout=FigureLayout(height='420px'))"
      ]
     },
     "metadata": {},
     "output_type": "display_data"
    }
   ],
   "source": [
    "# Add a heatmap of temperature for the vacation spots and marker for each city.\n",
    "locations = hotel_df[[\"Lat\", \"Lng\"]]\n",
    "max_temp = hotel_df[\"Max Temp\"]\n",
    "fig = gmaps.figure(center=(30.0, 31.0), zoom_level=1.5)\n",
    "heat_layer = gmaps.heatmap_layer(locations, weights=max_temp,\n",
    "             dissipating=False, max_intensity=300, point_radius=4)\n",
    "marker_layer = gmaps.marker_layer(locations)\n",
    "fig.add_layer(heat_layer)\n",
    "fig.add_layer(marker_layer)\n",
    "# Call the figure to plot the data.\n",
    "fig"
   ]
  },
  {
   "cell_type": "code",
   "execution_count": 20,
   "metadata": {},
   "outputs": [
    {
     "data": {
      "application/vnd.jupyter.widget-view+json": {
       "model_id": "65ce8b1997a848e996a7841f178cbc68",
       "version_major": 2,
       "version_minor": 0
      },
      "text/plain": [
       "Figure(layout=FigureLayout(height='420px'))"
      ]
     },
     "metadata": {},
     "output_type": "display_data"
    }
   ],
   "source": [
    "info_box_template = \"\"\"\n",
    "<dl>\n",
    "<dt>Hotel Name</dt><dd>{Hotel Name}</dd>\n",
    "<dt>City</dt><dd>{City}</dd>\n",
    "<dt>Country</dt><dd>{Country}</dd>\n",
    "<dt>Max Temp</dt><dd>{Max Temp} °F</dd>\n",
    "</dl>\n",
    "\"\"\"\n",
    "\n",
    "hotel_info = [info_box_template.format(**row) for index, row in hotel_df.iterrows()]\n",
    "\n",
    "# Add a heatmap of temperature for the vacation spots and marker for each city.\n",
    "locations = hotel_df[[\"Lat\", \"Lng\"]]\n",
    "max_temp = hotel_df[\"Max Temp\"]\n",
    "fig = gmaps.figure(center=(30.0, 31.0), zoom_level=1.5)\n",
    "heat_layer = gmaps.heatmap_layer(locations, weights=max_temp,\n",
    "             dissipating=False, max_intensity=300, point_radius=4)\n",
    "marker_layer = gmaps.marker_layer(locations,info_box_content=hotel_info)\n",
    "fig.add_layer(heat_layer)\n",
    "fig.add_layer(marker_layer)\n",
    "# Call the figure to plot the data.\n",
    "fig"
   ]
  },
  {
   "cell_type": "code",
   "execution_count": null,
   "metadata": {},
   "outputs": [],
   "source": []
  }
 ],
 "metadata": {
  "kernelspec": {
   "display_name": "Python 3",
   "language": "python",
   "name": "python3"
  },
  "language_info": {
   "codemirror_mode": {
    "name": "ipython",
    "version": 3
   },
   "file_extension": ".py",
   "mimetype": "text/x-python",
   "name": "python",
   "nbconvert_exporter": "python",
   "pygments_lexer": "ipython3",
   "version": "3.7.9"
  }
 },
 "nbformat": 4,
 "nbformat_minor": 4
}
